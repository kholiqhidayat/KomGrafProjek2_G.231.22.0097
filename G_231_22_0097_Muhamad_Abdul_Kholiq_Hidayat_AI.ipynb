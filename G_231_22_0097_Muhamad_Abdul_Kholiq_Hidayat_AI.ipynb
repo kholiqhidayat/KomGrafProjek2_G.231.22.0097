{
  "nbformat": 4,
  "nbformat_minor": 0,
  "metadata": {
    "colab": {
      "provenance": [],
      "authorship_tag": "ABX9TyM1+MvRSVKBwNmRdySveVuD",
      "include_colab_link": true
    },
    "kernelspec": {
      "name": "python3",
      "display_name": "Python 3"
    },
    "language_info": {
      "name": "python"
    }
  },
  "cells": [
    {
      "cell_type": "markdown",
      "metadata": {
        "id": "view-in-github",
        "colab_type": "text"
      },
      "source": [
        "<a href=\"https://colab.research.google.com/github/kholiqhidayat/KomGrafProjek2_G.231.22.0097/blob/main/G_231_22_0097_Muhamad_Abdul_Kholiq_Hidayat_AI.ipynb\" target=\"_parent\"><img src=\"https://colab.research.google.com/assets/colab-badge.svg\" alt=\"Open In Colab\"/></a>"
      ]
    },
    {
      "cell_type": "code",
      "execution_count": null,
      "metadata": {
        "id": "sn7D-44dcdSN"
      },
      "outputs": [],
      "source": [
        "nilai = int(input(\"masukkan nilai anda :\"))\n",
        "if nilai>=85:\n",
        "    print(\"huruf A\")\n",
        "elif nilai>=75:\n",
        "    print(\"huruf B\")\n",
        "elif nilai>=65:\n",
        "    print(\"huruf C\")\n",
        "elif nilai>=55:\n",
        "    print(\"huruf D\")\n",
        "else :\n",
        "    print(\"E\")"
      ]
    },
    {
      "cell_type": "code",
      "source": [
        "y = ['iqbal','Dino','Sanu']\n",
        "for x in y:\n",
        "    print(\"Data ke-\",x)\n",
        "print(\"Data Lengkap! Selesai\")"
      ],
      "metadata": {
        "id": "KahJaFMwcpKe"
      },
      "execution_count": null,
      "outputs": []
    },
    {
      "cell_type": "code",
      "source": [
        "nilai = 0\n",
        "while (nilai > ):\n",
        "    print(\"Data ke-\",angka)\n",
        "    angka = angka + 1\n",
        "print(\"data lengkap! selesai\")"
      ],
      "metadata": {
        "id": "i8-5iafecr3O"
      },
      "execution_count": null,
      "outputs": []
    },
    {
      "cell_type": "code",
      "source": [
        "peta = {'A': set(['B']),\n",
        "        'B':set(['C','A']),\n",
        "        'C':set(['H','B','I','D']),\n",
        "        'D':set(['C','E','H','F']),\n",
        "        'E':set(['D']),\n",
        "        'F':set(['D','G']),\n",
        "        'G':set(['F','H']),\n",
        "        'H':set(['L','C','G','D']),\n",
        "        'I':set(['C','J','K']),\n",
        "        'J':set(['I']),\n",
        "        'K':set(['L','I']),\n",
        "        'L':set(['K','H'])}"
      ],
      "metadata": {
        "id": "trqmMtY0ctfI"
      },
      "execution_count": null,
      "outputs": []
    },
    {
      "cell_type": "code",
      "source": [
        "def bfs_lintasan_terpendek(graph, mulai, goal):\n",
        "  explored = []\n",
        "  queue = [[mulai]]\n",
        "\n",
        "  if mulai == goal:\n",
        "    return \"Awal adalah Tujuan\"\n",
        "\n",
        "  while queue:\n",
        "    jalur = queue.pop(0)\n",
        "    node = jalur[-1]\n",
        "    if node not in explored:\n",
        "      neighbours = graph[node]\n",
        "      for neighbour in neighbours:\n",
        "        jalur_baru = list(jalur)\n",
        "        jalur_baru.append(neighbour)\n",
        "        queue.append(jalur_baru)\n",
        "        if neighbour == goal:\n",
        "          return jalur_baru\n",
        "\n",
        "      explored.append(node)\n",
        "  return \"Mohon maaf node kaian pilih tidak ada\"\n",
        "\n",
        "awal = input(\"Masukkan awal:\")\n",
        "tujuan = input(\"Masukkan akhir:\")\n",
        "print(bfs_lintasan_terpendek(peta, awal, tujuan))"
      ],
      "metadata": {
        "id": "N5MEZH9ucvIZ"
      },
      "execution_count": null,
      "outputs": []
    },
    {
      "cell_type": "code",
      "source": [
        "peta = {'A': set(['B','H']),\n",
        "        'B': set(['A','C','H']),\n",
        "        'C': set(['B','D','E']),\n",
        "        'D': set(['C','E','F','G','H']),\n",
        "        'E': set(['C','D']),\n",
        "        'F': set(['D','G']),\n",
        "        'G': set(['F','D','H']),\n",
        "        'H': set(['A','B','D','G'])}"
      ],
      "metadata": {
        "id": "MWnbEeoDcw1F"
      },
      "execution_count": null,
      "outputs": []
    },
    {
      "cell_type": "code",
      "source": [
        "def bfs_lintasan_terpendek(graph, mulai, tujuan):\n",
        "  explored = []\n",
        "  queue = [[mulai]]\n",
        "\n",
        "  if mulai == tujuan:\n",
        "    return \"Awal adalah Tujuan\"\n",
        "\n",
        "  while queue:\n",
        "    jalur = queue.pop(0)\n",
        "    node = jalur[-1]\n",
        "    if node not in explored:\n",
        "      neighbours = graph[node]\n",
        "      for neighbour in neighbours:\n",
        "        jalur_baru = list(jalur)\n",
        "        jalur_baru.append(neighbour)\n",
        "        queue.append(jalur_baru)\n",
        "        if neighbour == tujuan:\n",
        "          return jalur_baru\n",
        "\n",
        "      explored.append(node)\n",
        "  return \"Mohon maaf node kaian pilih tidak ada\"\n",
        "\n",
        "awal = input(\"Masukkan awal:\")\n",
        "tujuan = input(\"Masukkan akhir:\")\n",
        "print(bfs_lintasan_terpendek(peta, awal, tujuan))"
      ],
      "metadata": {
        "id": "wdWSDXKKcyNN"
      },
      "execution_count": null,
      "outputs": []
    }
  ]
}