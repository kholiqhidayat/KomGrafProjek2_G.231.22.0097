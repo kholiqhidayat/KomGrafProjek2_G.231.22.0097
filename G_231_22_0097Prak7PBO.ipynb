{
  "nbformat": 4,
  "nbformat_minor": 0,
  "metadata": {
    "colab": {
      "provenance": [],
      "authorship_tag": "ABX9TyOzIX5juFARH72PJsCJpLs5",
      "include_colab_link": true
    },
    "kernelspec": {
      "name": "python3",
      "display_name": "Python 3"
    },
    "language_info": {
      "name": "python"
    }
  },
  "cells": [
    {
      "cell_type": "markdown",
      "metadata": {
        "id": "view-in-github",
        "colab_type": "text"
      },
      "source": [
        "<a href=\"https://colab.research.google.com/github/kholiqhidayat/KomGrafProjek2_G.231.22.0097/blob/main/G_231_22_0097Prak7PBO.ipynb\" target=\"_parent\"><img src=\"https://colab.research.google.com/assets/colab-badge.svg\" alt=\"Open In Colab\"/></a>"
      ]
    },
    {
      "cell_type": "markdown",
      "source": [
        "**Polimorfisme**"
      ],
      "metadata": {
        "id": "HdT8RtJsArjf"
      }
    },
    {
      "cell_type": "markdown",
      "source": [
        "Langkah 1 Mendefinisikan kelas-kelas Berbeda"
      ],
      "metadata": {
        "id": "gusewUsGAusg"
      }
    },
    {
      "cell_type": "code",
      "execution_count": 1,
      "metadata": {
        "id": "EV8sGAeekR69"
      },
      "outputs": [],
      "source": [
        "class Anjing:\n",
        "  def suara(self):\n",
        "    return \"Guk Guk\"\n",
        "\n",
        "class Kucing:\n",
        "  def suara(self):\n",
        "    return \"Meong\""
      ]
    },
    {
      "cell_type": "markdown",
      "source": [
        "Langkah 2 Mendomenstrasikan Polimorfisme"
      ],
      "metadata": {
        "id": "Ay0HMEuIA04V"
      }
    },
    {
      "cell_type": "code",
      "source": [
        "def cetak_suara(hewan):\n",
        "  print(hewan.suara())"
      ],
      "metadata": {
        "id": "p0KTp8uCkVcp"
      },
      "execution_count": 2,
      "outputs": []
    },
    {
      "cell_type": "markdown",
      "source": [
        "Langkah 3 Mencoba Kode Polimorfik"
      ],
      "metadata": {
        "id": "y4-MIjPvA4V6"
      }
    },
    {
      "cell_type": "code",
      "source": [
        "anjing = Anjing()\n",
        "kucing = Kucing()\n",
        "\n",
        "cetak_suara(anjing)\n",
        "cetak_suara(kucing)"
      ],
      "metadata": {
        "id": "mq1Tm_8poiI0",
        "colab": {
          "base_uri": "https://localhost:8080/"
        },
        "outputId": "dd976e1e-58a5-4529-aad2-a7d40f18adaf"
      },
      "execution_count": 3,
      "outputs": [
        {
          "output_type": "stream",
          "name": "stdout",
          "text": [
            "Guk Guk\n",
            "Meong\n"
          ]
        }
      ]
    },
    {
      "cell_type": "markdown",
      "source": [
        "**CONTOH LAIN**"
      ],
      "metadata": {
        "id": "2sriRSxtA7f7"
      }
    },
    {
      "cell_type": "markdown",
      "source": [
        "Langkah 1 Mendefinisikan Kelas Klas Bentuk"
      ],
      "metadata": {
        "id": "3-pfbVx6A-l6"
      }
    },
    {
      "cell_type": "code",
      "source": [
        "import math\n",
        "\n",
        "class Persegi:\n",
        "  def __init__(self, sisi):\n",
        "    self.sisi = sisi\n",
        "\n",
        "  def keliling(self):\n",
        "    return 4 * self.sisi\n",
        "\n",
        "  def luas(self):\n",
        "    return self.sisi\n",
        "\n",
        "class Lingkaran:\n",
        "  def __init__(self, radius):\n",
        "    self.radius = radius\n",
        "\n",
        "  def keliling(self):\n",
        "    return 2 * math.pi * self.radius\n",
        "\n",
        "  def luas(self):\n",
        "    return math.pi * (self.radius ** 2)\n",
        "\n",
        "class Segitiga:\n",
        "  def __init__(self, alas, tinggi):\n",
        "    self.alas = alas\n",
        "    self.tinggi = tinggi\n",
        "\n",
        "  def keliling(self):\n",
        "    return \"Tidak diketahui tanpa informasi tambahan\"\n",
        "\n",
        "  def luas(self):\n",
        "    return 0.5 * self.alas * self.tinggi"
      ],
      "metadata": {
        "id": "czXXoRwEAWU2"
      },
      "execution_count": 4,
      "outputs": []
    },
    {
      "cell_type": "markdown",
      "source": [
        "Langkah 2 Mendemonstrasikan Polimorfisme"
      ],
      "metadata": {
        "id": "iwHnh8ksBEtt"
      }
    },
    {
      "cell_type": "code",
      "source": [
        "def cetak_informasi(bentuk):\n",
        "  print(\"Keliling:\", bentuk.keliling())\n",
        "  print(\"Luas:\", bentuk.luas())\n",
        "  print()"
      ],
      "metadata": {
        "id": "yMRulYlvksWJ"
      },
      "execution_count": 5,
      "outputs": []
    },
    {
      "cell_type": "markdown",
      "source": [
        "Langkah 3 Mencoba Kode Polimorfik"
      ],
      "metadata": {
        "id": "6RLqhQWoBJkq"
      }
    },
    {
      "cell_type": "code",
      "source": [
        "persegi = Persegi(4)\n",
        "lingkaran = Lingkaran(5)\n",
        "segitiga = Segitiga(6, 7)\n",
        "\n",
        "cetak_informasi(persegi)\n",
        "cetak_informasi(lingkaran)\n",
        "cetak_informasi(segitiga)"
      ],
      "metadata": {
        "colab": {
          "base_uri": "https://localhost:8080/"
        },
        "id": "7eNmfH1fkywK",
        "outputId": "79ddcb7c-294d-401e-af44-ff75bdb20693"
      },
      "execution_count": 6,
      "outputs": [
        {
          "output_type": "stream",
          "name": "stdout",
          "text": [
            "Keliling: 16\n",
            "Luas: 4\n",
            "\n",
            "Keliling: 31.41592653589793\n",
            "Luas: 78.53981633974483\n",
            "\n",
            "Keliling: Tidak diketahui tanpa informasi tambahan\n",
            "Luas: 21.0\n",
            "\n"
          ]
        }
      ]
    },
    {
      "cell_type": "markdown",
      "source": [
        "**Contoh Lain**"
      ],
      "metadata": {
        "id": "ZQlI7iY6BMgR"
      }
    },
    {
      "cell_type": "code",
      "source": [
        "class Persegi:\n",
        "  def __init__(self, sisi):\n",
        "    self.sisi = sisi\n",
        "\n",
        "  def hitung_keliling(self):\n",
        "    return 4 * self.sisi\n",
        "\n",
        "  def hitung_luas(self):\n",
        "    return self.sisi ** 2\n",
        "\n",
        "  def tampilkan_jenis(self):\n",
        "    print(\"Ini adalah Persegi\")\n",
        "\n",
        "class Lingkaran:\n",
        "  def __init__(self, radius):\n",
        "    self.radius = radius\n",
        "\n",
        "  def hitung_keliling(self):\n",
        "    return 2 * 3.14 * (self.radius ** 2)\n",
        "\n",
        "  def hitung_luas(self):\n",
        "    return 3.14 * (self.radius ** 2)\n",
        "\n",
        "  def tampilkan_jenis(self):\n",
        "    print(\"Ini adalah Lingkaran\")\n",
        "\n",
        "class Segitiga:\n",
        "  def __init__(self, alas, tinggi):\n",
        "    self.alas = alas\n",
        "    self.tinggi = tinggi\n",
        "\n",
        "  def hitung_keliling(self):\n",
        "    return None # Tidak cukup informasi untuk keliling\n",
        "\n",
        "  def hitung_luas(self):\n",
        "    return 0.5 * self.alas * self.tinggi\n",
        "\n",
        "  def tampilkan_jenis(self):\n",
        "    print(\"Ini adalah Segitiga\")\n"
      ],
      "metadata": {
        "id": "iNCDno9Tk8aP"
      },
      "execution_count": 7,
      "outputs": []
    },
    {
      "cell_type": "markdown",
      "source": [
        "Langkah 2 : Mengimplementasikan Polimorfisme"
      ],
      "metadata": {
        "id": "-ySMSkalBPCr"
      }
    },
    {
      "cell_type": "code",
      "source": [
        "def tampilkan_info(bentuk):\n",
        "  bentuk.tampilkan_jenis()\n",
        "  print(\"Keliling:\", bentuk.hitung_keliling())\n",
        "  print(\"Luas:\", bentuk.hitung_luas())\n",
        "  print()\n",
        "\n",
        "persegi = Persegi(4)\n",
        "lingkaran = Lingkaran(5)\n",
        "segitiga = Segitiga(6, 7)\n",
        "\n",
        "tampilkan_info(persegi)\n",
        "tampilkan_info(lingkaran)\n",
        "tampilkan_info(segitiga)"
      ],
      "metadata": {
        "id": "6N8xX2EllneK",
        "colab": {
          "base_uri": "https://localhost:8080/"
        },
        "outputId": "c4815da6-3b3e-4f2d-f957-7c901fc4832e"
      },
      "execution_count": 8,
      "outputs": [
        {
          "output_type": "stream",
          "name": "stdout",
          "text": [
            "Ini adalah Persegi\n",
            "Keliling: 16\n",
            "Luas: 16\n",
            "\n",
            "Ini adalah Lingkaran\n",
            "Keliling: 157.0\n",
            "Luas: 78.5\n",
            "\n",
            "Ini adalah Segitiga\n",
            "Keliling: None\n",
            "Luas: 21.0\n",
            "\n"
          ]
        }
      ]
    }
  ]
}